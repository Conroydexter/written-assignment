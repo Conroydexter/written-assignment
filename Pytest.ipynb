{
 "cells": [
  {
   "cell_type": "code",
   "execution_count": 1,
   "id": "31832463",
   "metadata": {},
   "outputs": [],
   "source": [
    "import pandas as pd\n",
    "import numpy as np\n",
    "import sys"
   ]
  },
  {
   "cell_type": "code",
   "execution_count": 2,
   "id": "60071c9a",
   "metadata": {},
   "outputs": [],
   "source": [
    "#def Merge_in_Pandas():\n",
    "    \n",
    "    #import packages \n",
    "    #import pandas as pd\n",
    "    #import numpy as np\n",
    "    \n",
    "    #read in the datasets\n",
    "    #Training = pd.read_csv('train.csv')\n",
    "    #Ideal = pd.read_csv ('ideal.csv')\n",
    "    \n",
    "    #merge in pandas\n",
    "    #df = pd.merge(Training, Ideal, on = 'x')\n",
    "    \n",
    "    #return df "
   ]
  },
  {
   "cell_type": "code",
   "execution_count": 3,
   "id": "ccb94b45",
   "metadata": {},
   "outputs": [],
   "source": [
    "Training = pd.read_csv('train.csv')\n",
    "Ideal = pd.read_csv ('ideal.csv')\n",
    "\n",
    "df = pd.merge(Training, Ideal, on = 'x')"
   ]
  },
  {
   "cell_type": "code",
   "execution_count": 4,
   "id": "4fa0aaa5",
   "metadata": {
    "scrolled": true
   },
   "outputs": [
    {
     "data": {
      "text/html": [
       "<div>\n",
       "<style scoped>\n",
       "    .dataframe tbody tr th:only-of-type {\n",
       "        vertical-align: middle;\n",
       "    }\n",
       "\n",
       "    .dataframe tbody tr th {\n",
       "        vertical-align: top;\n",
       "    }\n",
       "\n",
       "    .dataframe thead th {\n",
       "        text-align: right;\n",
       "    }\n",
       "</style>\n",
       "<table border=\"1\" class=\"dataframe\">\n",
       "  <thead>\n",
       "    <tr style=\"text-align: right;\">\n",
       "      <th></th>\n",
       "      <th>x</th>\n",
       "      <th>y1_x</th>\n",
       "      <th>y2_x</th>\n",
       "      <th>y3_x</th>\n",
       "      <th>y4_x</th>\n",
       "      <th>y1_y</th>\n",
       "      <th>y2_y</th>\n",
       "      <th>y3_y</th>\n",
       "      <th>y4_y</th>\n",
       "      <th>y5</th>\n",
       "      <th>...</th>\n",
       "      <th>y41</th>\n",
       "      <th>y42</th>\n",
       "      <th>y43</th>\n",
       "      <th>y44</th>\n",
       "      <th>y45</th>\n",
       "      <th>y46</th>\n",
       "      <th>y47</th>\n",
       "      <th>y48</th>\n",
       "      <th>y49</th>\n",
       "      <th>y50</th>\n",
       "    </tr>\n",
       "  </thead>\n",
       "  <tbody>\n",
       "    <tr>\n",
       "      <th>0</th>\n",
       "      <td>-20.0</td>\n",
       "      <td>40.215690</td>\n",
       "      <td>0.755265</td>\n",
       "      <td>19.881090</td>\n",
       "      <td>800.02094</td>\n",
       "      <td>-0.912945</td>\n",
       "      <td>0.408082</td>\n",
       "      <td>9.087055</td>\n",
       "      <td>5.408082</td>\n",
       "      <td>-9.087055</td>\n",
       "      <td>...</td>\n",
       "      <td>-40.456474</td>\n",
       "      <td>40.204040</td>\n",
       "      <td>2.995732</td>\n",
       "      <td>-0.008333</td>\n",
       "      <td>12.995732</td>\n",
       "      <td>5.298317</td>\n",
       "      <td>-5.298317</td>\n",
       "      <td>-0.186278</td>\n",
       "      <td>0.912945</td>\n",
       "      <td>0.396850</td>\n",
       "    </tr>\n",
       "    <tr>\n",
       "      <th>1</th>\n",
       "      <td>-19.9</td>\n",
       "      <td>40.379227</td>\n",
       "      <td>0.809859</td>\n",
       "      <td>20.308237</td>\n",
       "      <td>791.93540</td>\n",
       "      <td>-0.867644</td>\n",
       "      <td>0.497186</td>\n",
       "      <td>9.132356</td>\n",
       "      <td>5.497186</td>\n",
       "      <td>-9.132356</td>\n",
       "      <td>...</td>\n",
       "      <td>-40.233820</td>\n",
       "      <td>40.048590</td>\n",
       "      <td>2.990720</td>\n",
       "      <td>-0.008340</td>\n",
       "      <td>12.990720</td>\n",
       "      <td>5.293305</td>\n",
       "      <td>-5.293305</td>\n",
       "      <td>-0.215690</td>\n",
       "      <td>0.867644</td>\n",
       "      <td>0.476954</td>\n",
       "    </tr>\n",
       "    <tr>\n",
       "      <th>2</th>\n",
       "      <td>-19.8</td>\n",
       "      <td>39.607777</td>\n",
       "      <td>1.246826</td>\n",
       "      <td>20.367115</td>\n",
       "      <td>784.16560</td>\n",
       "      <td>-0.813674</td>\n",
       "      <td>0.581322</td>\n",
       "      <td>9.186326</td>\n",
       "      <td>5.581322</td>\n",
       "      <td>-9.186326</td>\n",
       "      <td>...</td>\n",
       "      <td>-40.006836</td>\n",
       "      <td>39.890660</td>\n",
       "      <td>2.985682</td>\n",
       "      <td>-0.008347</td>\n",
       "      <td>12.985682</td>\n",
       "      <td>5.288267</td>\n",
       "      <td>-5.288267</td>\n",
       "      <td>-0.236503</td>\n",
       "      <td>0.813674</td>\n",
       "      <td>0.549129</td>\n",
       "    </tr>\n",
       "    <tr>\n",
       "      <th>3</th>\n",
       "      <td>-19.7</td>\n",
       "      <td>39.252636</td>\n",
       "      <td>0.775174</td>\n",
       "      <td>19.370686</td>\n",
       "      <td>776.31165</td>\n",
       "      <td>-0.751573</td>\n",
       "      <td>0.659649</td>\n",
       "      <td>9.248426</td>\n",
       "      <td>5.659649</td>\n",
       "      <td>-9.248426</td>\n",
       "      <td>...</td>\n",
       "      <td>-39.775787</td>\n",
       "      <td>39.729824</td>\n",
       "      <td>2.980619</td>\n",
       "      <td>-0.008354</td>\n",
       "      <td>12.980619</td>\n",
       "      <td>5.283204</td>\n",
       "      <td>-5.283204</td>\n",
       "      <td>-0.247887</td>\n",
       "      <td>0.751573</td>\n",
       "      <td>0.612840</td>\n",
       "    </tr>\n",
       "    <tr>\n",
       "      <th>4</th>\n",
       "      <td>-19.6</td>\n",
       "      <td>39.924540</td>\n",
       "      <td>0.185780</td>\n",
       "      <td>19.780146</td>\n",
       "      <td>768.57574</td>\n",
       "      <td>-0.681964</td>\n",
       "      <td>0.731386</td>\n",
       "      <td>9.318036</td>\n",
       "      <td>5.731386</td>\n",
       "      <td>-9.318036</td>\n",
       "      <td>...</td>\n",
       "      <td>-39.540980</td>\n",
       "      <td>39.565693</td>\n",
       "      <td>2.975530</td>\n",
       "      <td>-0.008361</td>\n",
       "      <td>12.975530</td>\n",
       "      <td>5.278115</td>\n",
       "      <td>-5.278115</td>\n",
       "      <td>-0.249389</td>\n",
       "      <td>0.681964</td>\n",
       "      <td>0.667902</td>\n",
       "    </tr>\n",
       "  </tbody>\n",
       "</table>\n",
       "<p>5 rows × 55 columns</p>\n",
       "</div>"
      ],
      "text/plain": [
       "      x       y1_x      y2_x       y3_x       y4_x      y1_y      y2_y  \\\n",
       "0 -20.0  40.215690  0.755265  19.881090  800.02094 -0.912945  0.408082   \n",
       "1 -19.9  40.379227  0.809859  20.308237  791.93540 -0.867644  0.497186   \n",
       "2 -19.8  39.607777  1.246826  20.367115  784.16560 -0.813674  0.581322   \n",
       "3 -19.7  39.252636  0.775174  19.370686  776.31165 -0.751573  0.659649   \n",
       "4 -19.6  39.924540  0.185780  19.780146  768.57574 -0.681964  0.731386   \n",
       "\n",
       "       y3_y      y4_y        y5  ...        y41        y42       y43  \\\n",
       "0  9.087055  5.408082 -9.087055  ... -40.456474  40.204040  2.995732   \n",
       "1  9.132356  5.497186 -9.132356  ... -40.233820  40.048590  2.990720   \n",
       "2  9.186326  5.581322 -9.186326  ... -40.006836  39.890660  2.985682   \n",
       "3  9.248426  5.659649 -9.248426  ... -39.775787  39.729824  2.980619   \n",
       "4  9.318036  5.731386 -9.318036  ... -39.540980  39.565693  2.975530   \n",
       "\n",
       "        y44        y45       y46       y47       y48       y49       y50  \n",
       "0 -0.008333  12.995732  5.298317 -5.298317 -0.186278  0.912945  0.396850  \n",
       "1 -0.008340  12.990720  5.293305 -5.293305 -0.215690  0.867644  0.476954  \n",
       "2 -0.008347  12.985682  5.288267 -5.288267 -0.236503  0.813674  0.549129  \n",
       "3 -0.008354  12.980619  5.283204 -5.283204 -0.247887  0.751573  0.612840  \n",
       "4 -0.008361  12.975530  5.278115 -5.278115 -0.249389  0.681964  0.667902  \n",
       "\n",
       "[5 rows x 55 columns]"
      ]
     },
     "execution_count": 4,
     "metadata": {},
     "output_type": "execute_result"
    }
   ],
   "source": [
    "df.head()"
   ]
  },
  {
   "cell_type": "code",
   "execution_count": 9,
   "id": "975cb410",
   "metadata": {},
   "outputs": [
    {
     "name": "stdout",
     "output_type": "stream",
     "text": [
      "179216\n"
     ]
    }
   ],
   "source": [
    "var = df\n",
    "print(sys.getsizeof(var))"
   ]
  },
  {
   "cell_type": "code",
   "execution_count": 5,
   "id": "2e6f9fdd",
   "metadata": {},
   "outputs": [
    {
     "data": {
      "text/plain": [
       "179216"
      ]
     },
     "execution_count": 5,
     "metadata": {},
     "output_type": "execute_result"
    }
   ],
   "source": [
    "sys.getsizeof(df)"
   ]
  },
  {
   "cell_type": "code",
   "execution_count": 6,
   "id": "ff1cd9a9",
   "metadata": {},
   "outputs": [],
   "source": [
    "var = 2 "
   ]
  },
  {
   "cell_type": "code",
   "execution_count": 7,
   "id": "8a36a9c0",
   "metadata": {},
   "outputs": [
    {
     "data": {
      "text/plain": [
       "28"
      ]
     },
     "execution_count": 7,
     "metadata": {},
     "output_type": "execute_result"
    }
   ],
   "source": [
    "sys.getsizeof(var)"
   ]
  },
  {
   "cell_type": "code",
   "execution_count": 8,
   "id": "7e152f6c",
   "metadata": {},
   "outputs": [
    {
     "name": "stdout",
     "output_type": "stream",
     "text": [
      "179216\n"
     ]
    }
   ],
   "source": [
    "var = df\n",
    "print(sys.getsizeof(var))"
   ]
  },
  {
   "cell_type": "code",
   "execution_count": 5,
   "id": "8ce06b21",
   "metadata": {},
   "outputs": [],
   "source": [
    "from datetime import datetime"
   ]
  },
  {
   "cell_type": "code",
   "execution_count": 7,
   "id": "3c566b32",
   "metadata": {},
   "outputs": [
    {
     "name": "stdout",
     "output_type": "stream",
     "text": [
      "Time elapsed (hh:mm:ss.ms)0:00:00.005135\n"
     ]
    }
   ],
   "source": [
    "#time taken to perform the merge with pandas\n",
    "start_time = datetime.now()\n",
    "\n",
    "mergedPandas = pd.merge(Training, Ideal, on = 'x')\n",
    "\n",
    "time_elapsed = datetime.now() - start_time\n",
    "\n",
    "print ('Time elapsed (hh:mm:ss.ms){}'.format(time_elapsed))"
   ]
  },
  {
   "cell_type": "code",
   "execution_count": null,
   "id": "aed44764",
   "metadata": {},
   "outputs": [],
   "source": [
    "from datetime import datetime\n",
    "start_time = datetime.now()\n",
    "\n",
    "mergedPandas = pd.merge(Training_data, Ideal_data, on = 'X')\n",
    "\n",
    "time_elapsed = datetime.now() - start_time\n",
    "\n",
    "print ('Time elapsed (hh:mm:ss.ms){}'.format(time_elapsed))"
   ]
  }
 ],
 "metadata": {
  "kernelspec": {
   "display_name": "Python 3 (ipykernel)",
   "language": "python",
   "name": "python3"
  },
  "language_info": {
   "codemirror_mode": {
    "name": "ipython",
    "version": 3
   },
   "file_extension": ".py",
   "mimetype": "text/x-python",
   "name": "python",
   "nbconvert_exporter": "python",
   "pygments_lexer": "ipython3",
   "version": "3.9.12"
  }
 },
 "nbformat": 4,
 "nbformat_minor": 5
}
