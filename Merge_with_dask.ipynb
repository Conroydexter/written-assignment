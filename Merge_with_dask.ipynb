{
 "cells": [
  {
   "cell_type": "code",
   "execution_count": 1,
   "id": "0fc20185",
   "metadata": {},
   "outputs": [],
   "source": [
    "#packages\n",
    "import numpy as np\n",
    "import dask.dataframe as dd\n",
    "import sys\n",
    "#read in the two datasets    \n",
    "Training = dd.read_csv('train.csv')\n",
    "Ideal = dd.read_csv ('ideal.csv')\n",
    "\n",
    "#merge in dask\n",
    "    \n",
    "merged_dd = Training.merge (Ideal, on = ['x'])\n",
    "    "
   ]
  },
  {
   "cell_type": "code",
   "execution_count": 2,
   "id": "44efc651",
   "metadata": {},
   "outputs": [],
   "source": [
    "#merging of the datasets using dask\n",
    "Training = dd.read_csv('train.csv')\n",
    "Ideal = dd.read_csv ('ideal.csv')\n",
    "    \n",
    "merged_dd = Training.merge (Ideal, on = ['x'])"
   ]
  },
  {
   "cell_type": "code",
   "execution_count": 3,
   "id": "2d852c1f",
   "metadata": {},
   "outputs": [
    {
     "data": {
      "text/html": [
       "<div>\n",
       "<style scoped>\n",
       "    .dataframe tbody tr th:only-of-type {\n",
       "        vertical-align: middle;\n",
       "    }\n",
       "\n",
       "    .dataframe tbody tr th {\n",
       "        vertical-align: top;\n",
       "    }\n",
       "\n",
       "    .dataframe thead th {\n",
       "        text-align: right;\n",
       "    }\n",
       "</style>\n",
       "<table border=\"1\" class=\"dataframe\">\n",
       "  <thead>\n",
       "    <tr style=\"text-align: right;\">\n",
       "      <th></th>\n",
       "      <th>x</th>\n",
       "      <th>y1_x</th>\n",
       "      <th>y2_x</th>\n",
       "      <th>y3_x</th>\n",
       "      <th>y4_x</th>\n",
       "      <th>y1_y</th>\n",
       "      <th>y2_y</th>\n",
       "      <th>y3_y</th>\n",
       "      <th>y4_y</th>\n",
       "      <th>y5</th>\n",
       "      <th>...</th>\n",
       "      <th>y41</th>\n",
       "      <th>y42</th>\n",
       "      <th>y43</th>\n",
       "      <th>y44</th>\n",
       "      <th>y45</th>\n",
       "      <th>y46</th>\n",
       "      <th>y47</th>\n",
       "      <th>y48</th>\n",
       "      <th>y49</th>\n",
       "      <th>y50</th>\n",
       "    </tr>\n",
       "  </thead>\n",
       "  <tbody>\n",
       "    <tr>\n",
       "      <th>0</th>\n",
       "      <td>-20.0</td>\n",
       "      <td>40.215690</td>\n",
       "      <td>0.755265</td>\n",
       "      <td>19.881090</td>\n",
       "      <td>800.02094</td>\n",
       "      <td>-0.912945</td>\n",
       "      <td>0.408082</td>\n",
       "      <td>9.087055</td>\n",
       "      <td>5.408082</td>\n",
       "      <td>-9.087055</td>\n",
       "      <td>...</td>\n",
       "      <td>-40.456474</td>\n",
       "      <td>40.204040</td>\n",
       "      <td>2.995732</td>\n",
       "      <td>-0.008333</td>\n",
       "      <td>12.995732</td>\n",
       "      <td>5.298317</td>\n",
       "      <td>-5.298317</td>\n",
       "      <td>-0.186278</td>\n",
       "      <td>0.912945</td>\n",
       "      <td>0.396850</td>\n",
       "    </tr>\n",
       "    <tr>\n",
       "      <th>1</th>\n",
       "      <td>-19.9</td>\n",
       "      <td>40.379227</td>\n",
       "      <td>0.809859</td>\n",
       "      <td>20.308237</td>\n",
       "      <td>791.93540</td>\n",
       "      <td>-0.867644</td>\n",
       "      <td>0.497186</td>\n",
       "      <td>9.132356</td>\n",
       "      <td>5.497186</td>\n",
       "      <td>-9.132356</td>\n",
       "      <td>...</td>\n",
       "      <td>-40.233820</td>\n",
       "      <td>40.048590</td>\n",
       "      <td>2.990720</td>\n",
       "      <td>-0.008340</td>\n",
       "      <td>12.990720</td>\n",
       "      <td>5.293305</td>\n",
       "      <td>-5.293305</td>\n",
       "      <td>-0.215690</td>\n",
       "      <td>0.867644</td>\n",
       "      <td>0.476954</td>\n",
       "    </tr>\n",
       "    <tr>\n",
       "      <th>2</th>\n",
       "      <td>-19.8</td>\n",
       "      <td>39.607777</td>\n",
       "      <td>1.246826</td>\n",
       "      <td>20.367115</td>\n",
       "      <td>784.16560</td>\n",
       "      <td>-0.813674</td>\n",
       "      <td>0.581322</td>\n",
       "      <td>9.186326</td>\n",
       "      <td>5.581322</td>\n",
       "      <td>-9.186326</td>\n",
       "      <td>...</td>\n",
       "      <td>-40.006836</td>\n",
       "      <td>39.890660</td>\n",
       "      <td>2.985682</td>\n",
       "      <td>-0.008347</td>\n",
       "      <td>12.985682</td>\n",
       "      <td>5.288267</td>\n",
       "      <td>-5.288267</td>\n",
       "      <td>-0.236503</td>\n",
       "      <td>0.813674</td>\n",
       "      <td>0.549129</td>\n",
       "    </tr>\n",
       "    <tr>\n",
       "      <th>3</th>\n",
       "      <td>-19.7</td>\n",
       "      <td>39.252636</td>\n",
       "      <td>0.775174</td>\n",
       "      <td>19.370686</td>\n",
       "      <td>776.31165</td>\n",
       "      <td>-0.751573</td>\n",
       "      <td>0.659649</td>\n",
       "      <td>9.248426</td>\n",
       "      <td>5.659649</td>\n",
       "      <td>-9.248426</td>\n",
       "      <td>...</td>\n",
       "      <td>-39.775787</td>\n",
       "      <td>39.729824</td>\n",
       "      <td>2.980619</td>\n",
       "      <td>-0.008354</td>\n",
       "      <td>12.980619</td>\n",
       "      <td>5.283204</td>\n",
       "      <td>-5.283204</td>\n",
       "      <td>-0.247887</td>\n",
       "      <td>0.751573</td>\n",
       "      <td>0.612840</td>\n",
       "    </tr>\n",
       "    <tr>\n",
       "      <th>4</th>\n",
       "      <td>-19.6</td>\n",
       "      <td>39.924540</td>\n",
       "      <td>0.185780</td>\n",
       "      <td>19.780146</td>\n",
       "      <td>768.57574</td>\n",
       "      <td>-0.681964</td>\n",
       "      <td>0.731386</td>\n",
       "      <td>9.318036</td>\n",
       "      <td>5.731386</td>\n",
       "      <td>-9.318036</td>\n",
       "      <td>...</td>\n",
       "      <td>-39.540980</td>\n",
       "      <td>39.565693</td>\n",
       "      <td>2.975530</td>\n",
       "      <td>-0.008361</td>\n",
       "      <td>12.975530</td>\n",
       "      <td>5.278115</td>\n",
       "      <td>-5.278115</td>\n",
       "      <td>-0.249389</td>\n",
       "      <td>0.681964</td>\n",
       "      <td>0.667902</td>\n",
       "    </tr>\n",
       "  </tbody>\n",
       "</table>\n",
       "<p>5 rows × 55 columns</p>\n",
       "</div>"
      ],
      "text/plain": [
       "      x       y1_x      y2_x       y3_x       y4_x      y1_y      y2_y  \\\n",
       "0 -20.0  40.215690  0.755265  19.881090  800.02094 -0.912945  0.408082   \n",
       "1 -19.9  40.379227  0.809859  20.308237  791.93540 -0.867644  0.497186   \n",
       "2 -19.8  39.607777  1.246826  20.367115  784.16560 -0.813674  0.581322   \n",
       "3 -19.7  39.252636  0.775174  19.370686  776.31165 -0.751573  0.659649   \n",
       "4 -19.6  39.924540  0.185780  19.780146  768.57574 -0.681964  0.731386   \n",
       "\n",
       "       y3_y      y4_y        y5  ...        y41        y42       y43  \\\n",
       "0  9.087055  5.408082 -9.087055  ... -40.456474  40.204040  2.995732   \n",
       "1  9.132356  5.497186 -9.132356  ... -40.233820  40.048590  2.990720   \n",
       "2  9.186326  5.581322 -9.186326  ... -40.006836  39.890660  2.985682   \n",
       "3  9.248426  5.659649 -9.248426  ... -39.775787  39.729824  2.980619   \n",
       "4  9.318036  5.731386 -9.318036  ... -39.540980  39.565693  2.975530   \n",
       "\n",
       "        y44        y45       y46       y47       y48       y49       y50  \n",
       "0 -0.008333  12.995732  5.298317 -5.298317 -0.186278  0.912945  0.396850  \n",
       "1 -0.008340  12.990720  5.293305 -5.293305 -0.215690  0.867644  0.476954  \n",
       "2 -0.008347  12.985682  5.288267 -5.288267 -0.236503  0.813674  0.549129  \n",
       "3 -0.008354  12.980619  5.283204 -5.283204 -0.247887  0.751573  0.612840  \n",
       "4 -0.008361  12.975530  5.278115 -5.278115 -0.249389  0.681964  0.667902  \n",
       "\n",
       "[5 rows x 55 columns]"
      ]
     },
     "execution_count": 3,
     "metadata": {},
     "output_type": "execute_result"
    }
   ],
   "source": [
    "merged_dd.head()"
   ]
  },
  {
   "cell_type": "code",
   "execution_count": 4,
   "id": "b5707405",
   "metadata": {},
   "outputs": [
    {
     "name": "stdout",
     "output_type": "stream",
     "text": [
      "48\n"
     ]
    }
   ],
   "source": [
    "var = merged_dd\n",
    "print(sys.getsizeof(var))"
   ]
  },
  {
   "cell_type": "code",
   "execution_count": 5,
   "id": "d10cf81c",
   "metadata": {},
   "outputs": [],
   "source": [
    "from datetime import datetime"
   ]
  },
  {
   "cell_type": "code",
   "execution_count": 6,
   "id": "a240baa4",
   "metadata": {},
   "outputs": [
    {
     "name": "stdout",
     "output_type": "stream",
     "text": [
      "Time elapsed (hh:mm:ss.ms)0:00:00.048995\n"
     ]
    }
   ],
   "source": [
    "#time taken to perform the merge using dask\n",
    "start_time = datetime.now()\n",
    "\n",
    "mergedDask = Training.merge (Ideal, on = ['x'])\n",
    "\n",
    "time_elapsed = datetime.now() - start_time\n",
    "\n",
    "print ('Time elapsed (hh:mm:ss.ms){}'.format(time_elapsed))"
   ]
  },
  {
   "cell_type": "code",
   "execution_count": 7,
   "id": "8fb0a37f",
   "metadata": {},
   "outputs": [],
   "source": [
    "def merge_in_dask():\n",
    "\n",
    "    #packages\n",
    "    import numpy as np\n",
    "    import pandas as pd\n",
    "\n",
    "    #read in two data sets to merge\n",
    "    Training = dd.read_csv('train.csv')\n",
    "    Ideal = dd.read_csv ('ideal.csv')\n",
    "\n",
    "    #merge in dask\n",
    "    \n",
    "    merged_dd = Training.merge (Ideal, on = ['x'])\n",
    "    \n",
    "if __name__ == '__main__':\n",
    "    merge_in_dask()"
   ]
  },
  {
   "cell_type": "code",
   "execution_count": 8,
   "id": "1b1cc993",
   "metadata": {},
   "outputs": [],
   "source": [
    "import pandas as pd\n",
    "import dask.dataframe as dd\n",
    "import matplotlib.pyplot as plt"
   ]
  },
  {
   "cell_type": "code",
   "execution_count": 22,
   "id": "50d554a3",
   "metadata": {},
   "outputs": [
    {
     "name": "stdout",
     "output_type": "stream",
     "text": [
      "CPU times: total: 15.6 ms\n",
      "Wall time: 9 ms\n"
     ]
    },
    {
     "data": {
      "text/plain": [
       "pandas.core.frame.DataFrame"
      ]
     },
     "execution_count": 22,
     "metadata": {},
     "output_type": "execute_result"
    }
   ],
   "source": [
    "%%time\n",
    "df = pd.read_csv('train.csv')\n",
    "type(df)"
   ]
  },
  {
   "cell_type": "code",
   "execution_count": 23,
   "id": "c5d3b0ea",
   "metadata": {},
   "outputs": [
    {
     "name": "stdout",
     "output_type": "stream",
     "text": [
      "CPU times: total: 0 ns\n",
      "Wall time: 4.13 ms\n"
     ]
    },
    {
     "data": {
      "text/plain": [
       "dask.dataframe.core.DataFrame"
      ]
     },
     "execution_count": 23,
     "metadata": {},
     "output_type": "execute_result"
    }
   ],
   "source": [
    "%%time\n",
    "df = dd.read_csv('train.csv')\n",
    "type(df)"
   ]
  },
  {
   "cell_type": "code",
   "execution_count": 25,
   "id": "7b11f3b8",
   "metadata": {},
   "outputs": [
    {
     "data": {
      "image/png": "[encoded data removed]",
      "text/plain": [
       "<Figure size 432x288 with 1 Axes>"
      ]
     },
     "metadata": {
      "needs_background": "light"
     },
     "output_type": "display_data"
    }
   ],
   "source": [
    "fig = plt.figure()\n",
    "ax = fig.add_axes([0,0,1,1])\n",
    "ax.set_ylabel('ms')\n",
    "ax.set_title('Speed of reading Train csv file')\n",
    "lib = ['pandas', 'dask']\n",
    "perf = [9,4.3]\n",
    "ax.bar(lib,perf)\n",
    "plt.show()"
   ]
  },
  {
   "cell_type": "code",
   "execution_count": null,
   "id": "b5f31ffa",
   "metadata": {},
   "outputs": [],
   "source": []
  },
  {
   "cell_type": "code",
   "execution_count": 26,
   "id": "8f3fc2b6",
   "metadata": {},
   "outputs": [],
   "source": [
    "import pandas as pd\n",
    "from dask import dataframe as dd \n",
    "\n",
    "df = pd.DataFrame(\n",
    "    {\"Age\": [30, 28, 32, 40, 25, 36, 75, 52, 64, 76], \"Names\": [\"Conroy\", \"Dexter\", \"Reid\", \"Viv\", \"Pilosio\", \"Giefer\", \"Florance\", \"Marcia\", \"Carol\", \"Hubert\"]}\n",
    ")\n",
    "ddf = dd.from_pandas(df, npartitions=2)"
   ]
  },
  {
   "cell_type": "code",
   "execution_count": 27,
   "id": "65ff1907",
   "metadata": {},
   "outputs": [
    {
     "name": "stdout",
     "output_type": "stream",
     "text": [
      "   Age    Names\n",
      "0   30   Conroy\n",
      "1   28   Dexter\n",
      "2   32     Reid\n",
      "3   40      Viv\n",
      "4   25  Pilosio\n",
      "   Age     Names\n",
      "5   36    Giefer\n",
      "6   75  Florance\n",
      "7   52    Marcia\n",
      "8   64     Carol\n",
      "9   76    Hubert\n"
     ]
    }
   ],
   "source": [
    "for i in range(ddf.npartitions):\n",
    "    print(ddf.partitions[i].compute())"
   ]
  },
  {
   "cell_type": "code",
   "execution_count": 28,
   "id": "b3f41235",
   "metadata": {},
   "outputs": [
    {
     "data": {
      "text/plain": [
       "Age       40\n",
       "Index    128\n",
       "Names    311\n",
       "dtype: int64"
      ]
     },
     "execution_count": 28,
     "metadata": {},
     "output_type": "execute_result"
    }
   ],
   "source": [
    "ddf.partitions[0].memory_usage(deep=True).compute()"
   ]
  },
  {
   "cell_type": "code",
   "execution_count": 29,
   "id": "e8a46e8f",
   "metadata": {},
   "outputs": [
    {
     "data": {
      "text/plain": [
       "0    479\n",
       "1    488\n",
       "dtype: int64"
      ]
     },
     "execution_count": 29,
     "metadata": {},
     "output_type": "execute_result"
    }
   ],
   "source": [
    "ddf.memory_usage_per_partition(deep=True).compute()"
   ]
  },
  {
   "cell_type": "code",
   "execution_count": 30,
   "id": "c3516225",
   "metadata": {},
   "outputs": [
    {
     "name": "stdout",
     "output_type": "stream",
     "text": [
      "   Age     Names\n",
      "0   30    Conroy\n",
      "1   28    Dexter\n",
      "2   32      Reid\n",
      "3   40       Viv\n",
      "4   25   Pilosio\n",
      "5   36    Giefer\n",
      "6   75  Florance\n",
      "7   52    Marcia\n",
      "8   64     Carol\n",
      "9   76    Hubert\n"
     ]
    }
   ],
   "source": [
    "import pandas as pd\n",
    "df = pd.DataFrame(\n",
    "    {\"Age\": [30, 28, 32, 40, 25, 36, 75, 52, 64, 76], \"Names\": [\"Conroy\", \"Dexter\", \"Reid\", \"Viv\", \"Pilosio\", \"Giefer\", \"Florance\", \"Marcia\", \"Carol\", \"Hubert\"]}\n",
    ")\n",
    "print(df)"
   ]
  },
  {
   "cell_type": "code",
   "execution_count": 31,
   "id": "90f5bc00",
   "metadata": {},
   "outputs": [
    {
     "data": {
      "text/plain": [
       "Index    128\n",
       "Age       80\n",
       "Names    627\n",
       "dtype: int64"
      ]
     },
     "execution_count": 31,
     "metadata": {},
     "output_type": "execute_result"
    }
   ],
   "source": [
    "df.memory_usage(deep=True)"
   ]
  },
  {
   "cell_type": "code",
   "execution_count": 18,
   "id": "6e468540",
   "metadata": {},
   "outputs": [
    {
     "ename": "SyntaxError",
     "evalue": "invalid syntax (1718703573.py, line 7)",
     "output_type": "error",
     "traceback": [
      "\u001b[1;36m  Input \u001b[1;32mIn [18]\u001b[1;36m\u001b[0m\n\u001b[1;33m    0       57061027\u001b[0m\n\u001b[1;37m            ^\u001b[0m\n\u001b[1;31mSyntaxError\u001b[0m\u001b[1;31m:\u001b[0m invalid syntax\n"
     ]
    }
   ],
   "source": [
    "ddf = dd.read_parquet(\n",
    "    \"s3://coiled-datasets/timeseries/20-years/parquet\",\n",
    "    storage_options={\"anon\": True, 'use_ssl': True}\n",
    ")\n",
    "ddf.memory_usage_per_partition(deep=True).compute()\n",
    "\n",
    "0       57061027\n",
    "1       57060857\n",
    "2       57059768\n",
    "3       57059342\n",
    "4       57060737\n",
    "          ...   \n",
    "1090    57059834\n",
    "1091    57061111\n",
    "1092    57061001\n",
    "1093    57058404\n",
    "1094    57061989\n",
    "Length: 1095, dtype: int64"
   ]
  },
  {
   "cell_type": "code",
   "execution_count": null,
   "id": "1750cf05",
   "metadata": {},
   "outputs": [],
   "source": []
  }
 ],
 "metadata": {
  "kernelspec": {
   "display_name": "Python 3 (ipykernel)",
   "language": "python",
   "name": "python3"
  },
  "language_info": {
   "codemirror_mode": {
    "name": "ipython",
    "version": 3
   },
   "file_extension": ".py",
   "mimetype": "text/x-python",
   "name": "python",
   "nbconvert_exporter": "python",
   "pygments_lexer": "ipython3",
   "version": "3.9.12"
  }
 },
 "nbformat": 4,
 "nbformat_minor": 5
}
